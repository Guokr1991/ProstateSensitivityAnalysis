{
 "metadata": {
  "name": "",
  "signature": "sha256:d99b356ac6ecfd41df69cb1239f703ff7d2e9dbca659bcbec5eae649487bac76"
 },
 "nbformat": 3,
 "nbformat_minor": 0,
 "worksheets": [
  {
   "cells": [
    {
     "cell_type": "markdown",
     "metadata": {},
     "source": [
      "#ARFI Histology Lesion Analysis\n",
      "This notebook presents a comparison of ARFI lesion reads compared to whole mount histology reads, comparing index lesions, clinically-significant lesion and benign confounders, including atrophy and BPH.\n",
      "\n",
      "This notebook replaces the ```arfi_histology_analysis.py``` script and the corresponding ```arfi_histology_analysis.md``` output that were becoming really cumbersome with the different subanalyses."
     ]
    },
    {
     "cell_type": "code",
     "collapsed": false,
     "input": [
      "from lesion_analysis import LesionAnalysis\n",
      "invivo_path = '/luscinia/ProstateStudy/invivo'\n",
      "\n",
      "class countTotalPercent:\n",
      "    \"\"\"\n",
      "    calculate percentage (p) from 2 input ints, count (c) and total (t)\n",
      "    used for printed output below\n",
      "    \"\"\"\n",
      "    def __init__(self, c, t):\n",
      "        self.c = c\n",
      "        self.t = t\n",
      "        self.p = 100*float(c)/float(t)"
     ],
     "language": "python",
     "metadata": {},
     "outputs": [],
     "prompt_number": 1
    },
    {
     "cell_type": "markdown",
     "metadata": {},
     "source": [
      "##Valid Study Subjects"
     ]
    },
    {
     "cell_type": "code",
     "collapsed": false,
     "input": [
      "ValidPatientNums = []\n",
      "for n, p in enumerate(range(56, 107)):\n",
      "    P = LesionAnalysis(p, invivo_path)\n",
      "    if P.valid:\n",
      "        ValidPatientNums.append(p)\n",
      "    \n",
      "print \"%i of %i study subjects valid\" % (len(ValidPatientNums), n+1)\n",
      "print \"Valid study subjects: %s\" %  ValidPatientNums"
     ],
     "language": "python",
     "metadata": {},
     "outputs": [
      {
       "output_type": "stream",
       "stream": "stdout",
       "text": [
        "29 of 51 study subjects valid\n",
        "Valid study subjects: [56, 58, 59, 60, 62, 63, 64, 70, 71, 72, 73, 76, 78, 79, 82, 83, 84, 86, 87, 89, 91, 92, 93, 94, 95, 96, 99, 102, 104]\n"
       ]
      }
     ],
     "prompt_number": 2
    },
    {
     "cell_type": "markdown",
     "metadata": {},
     "source": [
      "##Index Lesions\n",
      "Index lesions were considered matched if they existed in the nearest-neighbor set of the histology-identified region.  An exact region match is not presented since there is so much uncertainty with the exact region for both the ARFI image and the histology.  There was at least one case that did not have an index lesion because the only PCA did not meet the threshold for clinical significance."
     ]
    },
    {
     "cell_type": "code",
     "collapsed": false,
     "input": [
      "IndexMatch = []\n",
      "IndexMiss = []\n",
      "for p in ValidPatientNums:\n",
      "    P = LesionAnalysis(p, invivo_path)\n",
      "    if P.index_match['nn']:\n",
      "        IndexMatch.append(p)\n",
      "    else:\n",
      "        IndexMiss.append(p)\n",
      "\n",
      "        \n",
      "ARFI_Index = countTotalPercent(len(IndexMatch), len(ValidPatientNums))\n",
      "\n",
      "print \"ARFI nearest-neighbor index PCA sensitivity: %i/%i (%.f%%)\" % (ARFI_Index.c, ARFI_Index.t, ARFI_Index.p)\n",
      "print \"ARFI-detected index PCA study subjects: %s\" % IndexMatch\n",
      "print \"ARFI-missed study subjects: %s\" % IndexMiss"
     ],
     "language": "python",
     "metadata": {},
     "outputs": [
      {
       "output_type": "stream",
       "stream": "stdout",
       "text": [
        "ARFI nearest-neighbor index PCA sensitivity: 22/29 (76%)\n",
        "ARFI-detected index PCA study subjects: [58, 59, 60, 62, 70, 71, 72, 73, 76, 78, 82, 83, 84, 86, 87, 89, 91, 93, 94, 96, 99, 104]\n",
        "ARFI-missed study subjects: [56, 63, 64, 79, 92, 95, 102]\n"
       ]
      }
     ],
     "prompt_number": 3
    },
    {
     "cell_type": "markdown",
     "metadata": {},
     "source": [
      "##ARFI Lesion Characterization"
     ]
    },
    {
     "cell_type": "markdown",
     "metadata": {},
     "source": [
      "###True Positives (Clinically-Significant PCA)"
     ]
    },
    {
     "cell_type": "code",
     "collapsed": false,
     "input": [
      "ClinSigMatch = []\n",
      "ClinSigMatchCases = []\n",
      "for p in ValidPatientNums:\n",
      "    P = LesionAnalysis(p, invivo_path)\n",
      "    ClinSigMatch.append(P.clin_sig_match)\n",
      "    ClinSigMatchCases.append(p)\n",
      "\n",
      "ARFItotal = len([j for i in ClinSigMatch for j in i])\n",
      "ARFIclinsig = countTotalPercent(len([j for i in ClinSigMatch for j in i if j[0]]), ARFItotal)\n",
      "ARFIposterior = countTotalPercent(len([j for i in ClinSigMatch for j in i if j[1] == 'posterior']), ARFItotal)     \n",
      "ARFIanterior = countTotalPercent(len([j for i in ClinSigMatch for j in i if j[1] == 'anterior']), ARFItotal)\n",
      "\n",
      "print \"%i/%i (%.f%%) or read lesions were clinically significant, with a mode IOS score of XXXX\" % \\\n",
      "    (ARFIclinsig.c, ARFIclinsig.t, ARFIclinsig.p)\n",
      "    \n",
      "print \"\\t%s\" % ClinSigMatchCases\n",
      "    \n",
      "print \"%i/%i (%.f%%) of read clinically-significant lesions were posterior, with a mode IOS score of XXXX\" % \\\n",
      "    (ARFIposterior.c, ARFIposterior.t, ARFIposterior.p)\n",
      "print \"%i/%i (%.f%%) of read clinically-significant lesions were anterior, with a mode IOS score of XXXX\" % \\\n",
      "    (ARFIanterior.c, ARFIanterior.t, ARFIanterior.p) "
     ],
     "language": "python",
     "metadata": {},
     "outputs": [
      {
       "output_type": "stream",
       "stream": "stdout",
       "text": [
        "21/29 (72%) or read lesions were clinically significant, with a mode IOS score of XXXX\n",
        "\t[56, 58, 59, 60, 62, 63, 64, 70, 71, 72, 73, 76, 78, 79, 82, 83, 84, 86, 87, 89, 91, 92, 93, 94, 95, 96, 99, 102, 104]\n",
        "28/29 (97%) of read clinically-significant lesions were posterior, with a mode IOS score of XXXX\n",
        "1/29 (3%) of read clinically-significant lesions were anterior, with a mode IOS score of XXXX\n"
       ]
      }
     ],
     "prompt_number": 13
    },
    {
     "cell_type": "markdown",
     "metadata": {},
     "source": [
      "###False Positives\n",
      "If the ARFI imaging regions of suspicion (ROS) did not contain clinically-significant, then what did they contain?"
     ]
    },
    {
     "cell_type": "code",
     "collapsed": false,
     "input": [
      "ARFIatrophy = []\n",
      "ARFIbph = []\n",
      "ARFI_FalsePositive = []\n",
      "NoHistLesion = []\n",
      "\n",
      "for p in ValidPatientNums:\n",
      "    P = LesionAnalysis(p, invivo_path)\n",
      "    if P.false_positive:\n",
      "        ARFI_FalsePositive.append([P.pnum, P.false_positive])\n",
      "    elif p in IndexMiss:\n",
      "        NoHistLesion.append(p)\n",
      "             \n",
      "ARFI_ClinInsigPCA = [x for x in ARFI_FalsePositive if x == 'pca']\n",
      "\n",
      "if not ARFI_ClinInsigPCA:\n",
      "    ARFI_ClinInsigPCA = None\n",
      "\n",
      "print \"Non-clinically significant PCA: %s\" % ARFI_ClinInsigPCA \n",
      "        \n",
      "for i, j in ARFI_FalsePositive:\n",
      "    if 'atrophy' in j:\n",
      "        ARFIatrophy.append(i)\n",
      "    elif 'bph' in j:\n",
      "        ARFIbph.append(i)\n",
      "        \n",
      "if not ARFIatrophy:\n",
      "    ARFIatrophy = None\n",
      "if not ARFIbph:\n",
      "    ARFIbph = None\n",
      "    \n",
      "print \"Study subjects with ATROPHY in ROS: %s\" % ARFIatrophy\n",
      "\n",
      "print \"Study subjects with BPH in ROS: %s\" % ARFIbph\n",
      "\n",
      "print \"No histologic lesions: %s\" % NoHistLesion"
     ],
     "language": "python",
     "metadata": {},
     "outputs": [
      {
       "output_type": "stream",
       "stream": "stdout",
       "text": [
        "Non-clinically significant PCA: None\n",
        "Study subjects with ATROPHY in ROS: [72]\n",
        "Study subjects with BPH in ROS: None\n",
        "No histologic lesions: [56, 63, 64, 79, 92, 95, 102]\n"
       ]
      }
     ],
     "prompt_number": 11
    },
    {
     "cell_type": "markdown",
     "metadata": {},
     "source": [
      "##Clinically-Significant Histology Lesions"
     ]
    },
    {
     "cell_type": "code",
     "collapsed": false,
     "input": [
      "ClinSigDetected = []\n",
      "\n",
      "for p in ValidPatientNums:\n",
      "    P = LesionAnalysis(p, invivo_path)\n",
      "    if P.clin_sig_sensitivity:\n",
      "        ClinSigDetected.append(P.clin_sig_sensitivity)\n",
      "       \n",
      "histtotal = len([j for i in ClinSigDetected for j in i])      \n",
      "histclinsig = countTotalPercent(len([j for i in ClinSigDetected for j in i if j[0]]), histtotal)                  \n",
      "histposterior = countTotalPercent(len([j for i in ClinSigDetected for j in i if j[1] == 'posterior']), histtotal)  \n",
      "histanterior = countTotalPercent(len([j for i in ClinSigDetected for j in i if j[1] == 'anterior']), histtotal)\n",
      "        \n",
      "print \"%i/%i (%.f%%) of clinically-significant histology lesions were detected\" % (histclinsig.c, histclinsig.t, histclinsig.p)\n",
      "print \"\\tLocations: %i/%i (%.f%%) posterior, %i/%i (%.f%%) anterior\" % \\\n",
      "    (histposterior.c, histposterior.t, histposterior.p,histanterior.c, histanterior.t, histanterior.p)"
     ],
     "language": "python",
     "metadata": {},
     "outputs": [
      {
       "output_type": "stream",
       "stream": "stdout",
       "text": [
        "22/34 (65%) of clinically-significant histology lesions were detected\n",
        "\tLocations: 29/34 (85%) posterior, 5/34 (15%) anterior\n"
       ]
      }
     ],
     "prompt_number": 12
    }
   ],
   "metadata": {}
  }
 ]
}