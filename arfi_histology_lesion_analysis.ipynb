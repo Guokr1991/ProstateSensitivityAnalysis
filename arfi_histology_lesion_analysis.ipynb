{
 "metadata": {
  "name": "",
  "signature": "sha256:0fbae7ad8c42f52987393cfa8cff92898a8ad73752b0aa4b048c8a17c08eebcd"
 },
 "nbformat": 3,
 "nbformat_minor": 0,
 "worksheets": [
  {
   "cells": [
    {
     "cell_type": "markdown",
     "metadata": {},
     "source": [
      "#ARFI Histology Lesion Analysis\n",
      "This notebook presents a comparison of ARFI lesion reads compared to whole mount histology reads, comparing index lesions, clinically-significant lesion and benign confounders, including atrophy and BPH.\n",
      "\n",
      "This notebook replaces the ```arfi_histology_analysis.py``` script and the corresponding ```arfi_histology_analysis.md``` output that were becoming really cumbersome with the different subanalyses."
     ]
    },
    {
     "cell_type": "code",
     "collapsed": false,
     "input": [
      "from lesion_analysis import LesionAnalysis\n",
      "invivo_path = '/home/mlp6/Downloads/ProstateStudy/invivo'"
     ],
     "language": "python",
     "metadata": {},
     "outputs": [],
     "prompt_number": 1
    },
    {
     "cell_type": "markdown",
     "metadata": {},
     "source": [
      "##Valid Study Subjects"
     ]
    },
    {
     "cell_type": "code",
     "collapsed": false,
     "input": [
      "Ptotal = []\n",
      "for n, p in enumerate(range(56, 107)):\n",
      "    P = LesionAnalysis(p, invivo_path)\n",
      "    if P.valid:\n",
      "        Ptotal.append(p)\n",
      "    \n",
      "print \"%i of %i study subjects valid\" % (len(Ptotal), n+1)\n",
      "print \"Valid study subjects: %s\" %  Ptotal"
     ],
     "language": "python",
     "metadata": {},
     "outputs": [
      {
       "output_type": "stream",
       "stream": "stdout",
       "text": [
        "29 of 51 study subjects valid\n",
        "Valid study subjects: [56, 58, 59, 60, 62, 63, 64, 70, 71, 72, 73, 76, 78, 79, 82, 83, 84, 86, 87, 89, 91, 92, 93, 94, 95, 96, 99, 102, 104]\n"
       ]
      }
     ],
     "prompt_number": 2
    },
    {
     "cell_type": "markdown",
     "metadata": {},
     "source": [
      "##Index Lesions\n",
      "Index lesions were considered matched if they existed in the nearest-neighbor set of the histology-identified region.  An exact region match is not presented since there is so much uncertainty with the exact region for both the ARFI image and the histology.  There was at least one case that did not have an index lesion because the only PCA did not meet the threshold for clinical significance."
     ]
    },
    {
     "cell_type": "code",
     "collapsed": false,
     "input": [
      "print \"ARFI Sensitivity:\"\n",
      "print \"ARFI-detected study subjects:\"\n",
      "print \"ARFI-missed study subjects:\""
     ],
     "language": "python",
     "metadata": {},
     "outputs": [
      {
       "ename": "SyntaxError",
       "evalue": "EOL while scanning string literal (<ipython-input-3-bfe6294d4f52>, line 2)",
       "output_type": "pyerr",
       "traceback": [
        "\u001b[1;36m  File \u001b[1;32m\"<ipython-input-3-bfe6294d4f52>\"\u001b[1;36m, line \u001b[1;32m2\u001b[0m\n\u001b[1;33m    print \"ARFI-detected study subjects:\u001b[0m\n\u001b[1;37m                                       ^\u001b[0m\n\u001b[1;31mSyntaxError\u001b[0m\u001b[1;31m:\u001b[0m EOL while scanning string literal\n"
       ]
      }
     ],
     "prompt_number": 3
    },
    {
     "cell_type": "markdown",
     "metadata": {},
     "source": [
      "##ARFI Lesion Characterization"
     ]
    },
    {
     "cell_type": "markdown",
     "metadata": {},
     "source": [
      "###True Positives (Clininically-Significant PCA)"
     ]
    },
    {
     "cell_type": "code",
     "collapsed": false,
     "input": [
      "print \"%i/%i (%.2f) or read lesions were clinically significant, with a mode IOS score of %i\"\n",
      "print \"%i/%i (%.2f) of read clinically-significant lesions were posterior, with a mode IOS score of %i\"\n",
      "print \"%i/%i (%.2f) of read clinically-significant lesions were anterior, with a mode IOS score of %i\""
     ],
     "language": "python",
     "metadata": {},
     "outputs": []
    },
    {
     "cell_type": "markdown",
     "metadata": {},
     "source": [
      "###False Positives\n",
      "If the region deemed suspicious by ARFI imaging did not contain clinically-significant, then what did they contain?"
     ]
    },
    {
     "cell_type": "code",
     "collapsed": false,
     "input": [
      "print \"Non-clinically significant PCA\"\n",
      "print \"Atrophy\"\n",
      "print \"Atrophy study subjects: %s\"\n",
      "print \"BPH\"\n",
      "print \"BPH study subjects: %s\"\n",
      "print \"No histologic lesions\""
     ],
     "language": "python",
     "metadata": {},
     "outputs": []
    },
    {
     "cell_type": "markdown",
     "metadata": {},
     "source": [
      "##Clinically-Significant Histology Lesions"
     ]
    },
    {
     "cell_type": "code",
     "collapsed": false,
     "input": [
      "print \"%i/%i (%.2f) of clinically-significant histology lesions were detected\"\n",
      "print \"Locations: %i/%i (%.2f) posterior, %i/%i (%.2f) anterior\""
     ],
     "language": "python",
     "metadata": {},
     "outputs": []
    }
   ],
   "metadata": {}
  }
 ]
}